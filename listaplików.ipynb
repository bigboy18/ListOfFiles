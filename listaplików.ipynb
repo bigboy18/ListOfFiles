{
 "cells": [
  {
   "cell_type": "code",
   "execution_count": 5,
   "metadata": {},
   "outputs": [
    {
     "name": "stdout",
     "output_type": "stream",
     "text": [
      "******File ready**********\n"
     ]
    }
   ],
   "source": [
    "import os\n",
    "import pandas as pd\n",
    "from datetime import datetime\n",
    "import easygui\n",
    "\n",
    "\n",
    "\n",
    "def getListOfFiles(dirName):\n",
    "    # create a list of file and sub directories\n",
    "    # names in the given directory\n",
    "    allFiles = []\n",
    "    \n",
    "    try:\n",
    "        listOfFile = os.listdir(dirName)\n",
    "\n",
    "        # Iterate over all the entries\n",
    "        for entry in listOfFile:\n",
    "            # Create full path\n",
    "            fullPath = os.path.join(dirName, entry)\n",
    "            #print(fullPath)\n",
    "            # If entry is a directory then get the list of files in this directory\n",
    "            if os.path.isdir(fullPath):\n",
    "                allFiles = allFiles + getListOfFiles(fullPath)\n",
    "            else:\n",
    "                allFiles.append(fullPath)\n",
    "    except:\n",
    "        pass\n",
    "    return allFiles\n",
    "\n",
    "  \n",
    "\n",
    "if __name__ == '__main__':\n",
    "    dirName = easygui.diropenbox()\n",
    "  \n",
    "    # Get the list of all files in directory tree at given path\n",
    "    listOfFiles = getListOfFiles(dirName)\n",
    "    \n",
    "    \n",
    "    det_list = []\n",
    "    for plik in listOfFiles:\n",
    "        try:\n",
    "            created = datetime.fromtimestamp(os.path.getctime(plik)).strftime('%Y-%m-%d %H:%M:%S')\n",
    "        except:\n",
    "            created = \"\"\n",
    "        try:\n",
    "            modify = datetime.fromtimestamp(os.path.getmtime(plik)).strftime('%Y-%m-%d %H:%M:%S')\n",
    "        except:\n",
    "            modify = \"\"\n",
    "        \n",
    "        try:\n",
    "            size = os.path.getsize(plik)\n",
    "        except:\n",
    "            size = \"\"\n",
    "        \n",
    "        \n",
    "        name = plik.split('\\\\')[-1]\n",
    "        \n",
    "        type_ = name.split(\".\")[-1]\n",
    "        \n",
    "        det_list.append((plik,name,created,modify, size, type_))\n",
    "    \n",
    "    \n",
    "    df1 = pd.DataFrame(det_list)\n",
    "    df1.columns = [\"Link\", \"Name\", \"Created\", \"Modified\", \"Size\", \"Extension\"]\n",
    "\n",
    "    df1.to_excel(os.getcwd() + '\\list_of_file.xlsx')\n",
    "\n",
    "    print(\"******File ready**********\")\n"
   ]
  },
  {
   "cell_type": "code",
   "execution_count": null,
   "metadata": {},
   "outputs": [],
   "source": []
  }
 ],
 "metadata": {
  "kernelspec": {
   "display_name": "Python 3",
   "language": "python",
   "name": "python3"
  },
  "language_info": {
   "codemirror_mode": {
    "name": "ipython",
    "version": 3
   },
   "file_extension": ".py",
   "mimetype": "text/x-python",
   "name": "python",
   "nbconvert_exporter": "python",
   "pygments_lexer": "ipython3",
   "version": "3.8.5"
  }
 },
 "nbformat": 4,
 "nbformat_minor": 2
}
